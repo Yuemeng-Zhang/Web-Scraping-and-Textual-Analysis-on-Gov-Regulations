{
 "cells": [
  {
   "cell_type": "code",
   "execution_count": 1,
   "metadata": {},
   "outputs": [],
   "source": [
    "from selenium import webdriver\n",
    "from selenium.webdriver import DesiredCapabilities\n",
    "from selenium.webdriver.chrome.options import Options\n",
    "from bs4 import BeautifulSoup\n",
    "import time\n",
    "import pandas as pd\n",
    "import numpy as np"
   ]
  },
  {
   "cell_type": "markdown",
   "metadata": {},
   "source": [
    "This notebook generate a summary table containing:\n",
    "    1. Name of the regulation\n",
    "    2. Docket ID\n",
    "    3. RIN\n",
    "    4. Summary of the regulation\n",
    "Input is a table of docket ids generated from all_docket_id notebook"
   ]
  },
  {
   "cell_type": "markdown",
   "metadata": {},
   "source": [
    "### Input Table"
   ]
  },
  {
   "cell_type": "code",
   "execution_count": 2,
   "metadata": {},
   "outputs": [],
   "source": [
    "df = pd.read_csv('docket_id_CFPB_all.csv') # read in the table of docket ids"
   ]
  },
  {
   "cell_type": "markdown",
   "metadata": {},
   "source": [
    "### Functions"
   ]
  },
  {
   "cell_type": "code",
   "execution_count": 17,
   "metadata": {},
   "outputs": [],
   "source": [
    "def get_bs_object(input_url):\n",
    "    chrome_options = Options()\n",
    "    chrome_options.add_argument(\"--headless\")\n",
    "\n",
    "    capabilities = DesiredCapabilities.CHROME.copy()\n",
    "    capabilities['acceptSslCerts'] = True \n",
    "    capabilities['acceptInsecureCerts'] = True\n",
    "\n",
    "    driver = webdriver.Chrome(options = chrome_options,executable_path='./chromedriver',desired_capabilities=capabilities)\n",
    "    driver.get(input_url)\n",
    "\n",
    "    time.sleep(5)\n",
    "\n",
    "    html=driver.page_source\n",
    "    result_page=BeautifulSoup(html,\"html.parser\")\n",
    "    return result_page"
   ]
  },
  {
   "cell_type": "code",
   "execution_count": 18,
   "metadata": {},
   "outputs": [],
   "source": [
    "def generate_row(docket_id):    \n",
    "    url=\"https://beta.regulations.gov/docket/\" \n",
    "    homepage_url = url + docket_id\n",
    "\n",
    "    result_page = get_bs_object(homepage_url)\n",
    "    \n",
    "    try:\n",
    "        name = result_page.find('h1', {'class':'h3 mt-0 mb-1 font-weight-bold js-title'}).get_text()\n",
    "    except:\n",
    "        name = None\n",
    "        \n",
    "    try:\n",
    "        Docket_ID = result_page.find('div',{'class':\"card-block py-0 pl-2 small text-muted\"}).find('p', {'class':'mb-0'}).get_text()\n",
    "    except:\n",
    "        Docket_ID = docket_id\n",
    "        \n",
    "    def get_RIN(result_page):\n",
    "        try:\n",
    "            if ('RIN' in \n",
    "            result_page.find('li', \n",
    "                             {'class':'list-group-item text-muted small'}).find('label', {'class': \n",
    "                                                                                          'control-label'}).get_text().strip()):\n",
    "                return result_page.find('li', \n",
    "                             {'class':'list-group-item text-muted small'}).find('p', {'class':'mb-0'}).get_text()\n",
    "        except:\n",
    "            return 'Not Assigned'\n",
    "    \n",
    "    RIN = get_RIN(result_page)\n",
    "    \n",
    "    def get_summary(result_page):\n",
    "        texts = result_page.find_all('p')\n",
    "        for text in texts:\n",
    "            text = text.get_text().strip()\n",
    "            if (not text.startswith('Beta Evaluation') and \n",
    "                not text.startswith('An official') and \n",
    "                not text.startswith('Created by') and \n",
    "                not text.startswith('This count refers to the total comment') and \n",
    "                not text.startswith('We are currently in') and \n",
    "                not text.startswith('Regulations.gov') and\n",
    "                not text.startswith('Docket') and len(text) > 15):\n",
    "                return text\n",
    "    try:\n",
    "        summary = get_summary(result_page)\n",
    "    except:\n",
    "        summary = None\n",
    "    \n",
    "    return [name, Docket_ID, RIN, summary]"
   ]
  },
  {
   "cell_type": "code",
   "execution_count": 19,
   "metadata": {},
   "outputs": [],
   "source": [
    "def generate_table(df):\n",
    "    res = []\n",
    "    for i in range(len(df)):\n",
    "        docket_id= df.iloc[i,0]\n",
    "        res.append(generate_row(docket_id))\n",
    "    return res"
   ]
  },
  {
   "cell_type": "markdown",
   "metadata": {},
   "source": [
    "### Run the code"
   ]
  },
  {
   "cell_type": "code",
   "execution_count": 20,
   "metadata": {},
   "outputs": [],
   "source": [
    "res_list = generate_table(df)"
   ]
  },
  {
   "cell_type": "code",
   "execution_count": 21,
   "metadata": {},
   "outputs": [],
   "source": [
    "df_res = pd.DataFrame(res_list, columns = ['Name', 'Docket_ID', 'RIN', 'Summary'])"
   ]
  },
  {
   "cell_type": "markdown",
   "metadata": {},
   "source": [
    "### Result"
   ]
  },
  {
   "cell_type": "code",
   "execution_count": 22,
   "metadata": {},
   "outputs": [
    {
     "data": {
      "text/html": [
       "<div>\n",
       "<style scoped>\n",
       "    .dataframe tbody tr th:only-of-type {\n",
       "        vertical-align: middle;\n",
       "    }\n",
       "\n",
       "    .dataframe tbody tr th {\n",
       "        vertical-align: top;\n",
       "    }\n",
       "\n",
       "    .dataframe thead th {\n",
       "        text-align: right;\n",
       "    }\n",
       "</style>\n",
       "<table border=\"1\" class=\"dataframe\">\n",
       "  <thead>\n",
       "    <tr style=\"text-align: right;\">\n",
       "      <th></th>\n",
       "      <th>Name</th>\n",
       "      <th>Docket_ID</th>\n",
       "      <th>RIN</th>\n",
       "      <th>Summary</th>\n",
       "    </tr>\n",
       "  </thead>\n",
       "  <tbody>\n",
       "    <tr>\n",
       "      <th>0</th>\n",
       "      <td>Electronic Fund Transfers (Regulation E)</td>\n",
       "      <td>CFPB-2014-0008</td>\n",
       "      <td>3170-AA45</td>\n",
       "      <td>The Bureau of Consumer Financial Protection (B...</td>\n",
       "    </tr>\n",
       "    <tr>\n",
       "      <th>1</th>\n",
       "      <td>Agency Information Collection Activities: Comm...</td>\n",
       "      <td>CFPB-2015-0037</td>\n",
       "      <td>None</td>\n",
       "      <td>In accordance with the Paperwork Reduction Act...</td>\n",
       "    </tr>\n",
       "    <tr>\n",
       "      <th>2</th>\n",
       "      <td>PRA Comment Request; MARS (Regulation O); File...</td>\n",
       "      <td>FTC-2019-0087</td>\n",
       "      <td>Not Assigned</td>\n",
       "      <td>The Federal Trade Commission (‘‘FTC’’ or ‘‘Com...</td>\n",
       "    </tr>\n",
       "    <tr>\n",
       "      <th>3</th>\n",
       "      <td>Amendments to Federal Mortgage Disclosure Requ...</td>\n",
       "      <td>CFPB-2016-0038</td>\n",
       "      <td>3170-AA61</td>\n",
       "      <td>The Bureau of Consumer Financial Protection (B...</td>\n",
       "    </tr>\n",
       "    <tr>\n",
       "      <th>4</th>\n",
       "      <td>Social Network and Citizen Engagement System</td>\n",
       "      <td>CFPB-2011-0014</td>\n",
       "      <td>None</td>\n",
       "      <td>System of Records Notices (SCORNs)</td>\n",
       "    </tr>\n",
       "    <tr>\n",
       "      <th>...</th>\n",
       "      <td>...</td>\n",
       "      <td>...</td>\n",
       "      <td>...</td>\n",
       "      <td>...</td>\n",
       "    </tr>\n",
       "    <tr>\n",
       "      <th>70</th>\n",
       "      <td>Policy To Encourage Trial Disclosure Programs;...</td>\n",
       "      <td>CFPB-2012-0046</td>\n",
       "      <td>None</td>\n",
       "      <td>The Bureau of Consumer Financial Protection (B...</td>\n",
       "    </tr>\n",
       "    <tr>\n",
       "      <th>71</th>\n",
       "      <td>Amendments to the 2013 Mortgage Rules under th...</td>\n",
       "      <td>CFPB-2014-0033</td>\n",
       "      <td>3170-AA49</td>\n",
       "      <td>The Bureau of Consumer Financial Protection (B...</td>\n",
       "    </tr>\n",
       "    <tr>\n",
       "      <th>72</th>\n",
       "      <td>Generic 60-Day PRA Notice</td>\n",
       "      <td>CFPB-2011-0033</td>\n",
       "      <td>None</td>\n",
       "      <td>Paper Reduction Act; PRA</td>\n",
       "    </tr>\n",
       "    <tr>\n",
       "      <th>73</th>\n",
       "      <td>Regulation Z Truth in Lending Act (TILA)</td>\n",
       "      <td>CFPB-2011-0031</td>\n",
       "      <td>Not Assigned</td>\n",
       "      <td>Regulation Z; TILA; Truth in Act</td>\n",
       "    </tr>\n",
       "    <tr>\n",
       "      <th>74</th>\n",
       "      <td>Request for Information Regarding Senior Finan...</td>\n",
       "      <td>CFPB-2012-0018</td>\n",
       "      <td>None</td>\n",
       "      <td>Seniors; Financial Exploitation</td>\n",
       "    </tr>\n",
       "  </tbody>\n",
       "</table>\n",
       "<p>75 rows × 4 columns</p>\n",
       "</div>"
      ],
      "text/plain": [
       "                                                 Name       Docket_ID  \\\n",
       "0            Electronic Fund Transfers (Regulation E)  CFPB-2014-0008   \n",
       "1   Agency Information Collection Activities: Comm...  CFPB-2015-0037   \n",
       "2   PRA Comment Request; MARS (Regulation O); File...   FTC-2019-0087   \n",
       "3   Amendments to Federal Mortgage Disclosure Requ...  CFPB-2016-0038   \n",
       "4        Social Network and Citizen Engagement System  CFPB-2011-0014   \n",
       "..                                                ...             ...   \n",
       "70  Policy To Encourage Trial Disclosure Programs;...  CFPB-2012-0046   \n",
       "71  Amendments to the 2013 Mortgage Rules under th...  CFPB-2014-0033   \n",
       "72                          Generic 60-Day PRA Notice  CFPB-2011-0033   \n",
       "73           Regulation Z Truth in Lending Act (TILA)  CFPB-2011-0031   \n",
       "74  Request for Information Regarding Senior Finan...  CFPB-2012-0018   \n",
       "\n",
       "             RIN                                            Summary  \n",
       "0      3170-AA45  The Bureau of Consumer Financial Protection (B...  \n",
       "1           None  In accordance with the Paperwork Reduction Act...  \n",
       "2   Not Assigned  The Federal Trade Commission (‘‘FTC’’ or ‘‘Com...  \n",
       "3      3170-AA61  The Bureau of Consumer Financial Protection (B...  \n",
       "4           None                 System of Records Notices (SCORNs)  \n",
       "..           ...                                                ...  \n",
       "70          None  The Bureau of Consumer Financial Protection (B...  \n",
       "71     3170-AA49  The Bureau of Consumer Financial Protection (B...  \n",
       "72          None                           Paper Reduction Act; PRA  \n",
       "73  Not Assigned                   Regulation Z; TILA; Truth in Act  \n",
       "74          None                    Seniors; Financial Exploitation  \n",
       "\n",
       "[75 rows x 4 columns]"
      ]
     },
     "execution_count": 22,
     "metadata": {},
     "output_type": "execute_result"
    }
   ],
   "source": [
    "df_res"
   ]
  },
  {
   "cell_type": "code",
   "execution_count": 23,
   "metadata": {},
   "outputs": [],
   "source": [
    "df_res.to_excel('Summary_CFPB_1.xlsx', index = False)"
   ]
  },
  {
   "cell_type": "code",
   "execution_count": null,
   "metadata": {},
   "outputs": [],
   "source": []
  }
 ],
 "metadata": {
  "kernelspec": {
   "display_name": "Python 3",
   "language": "python",
   "name": "python3"
  },
  "language_info": {
   "codemirror_mode": {
    "name": "ipython",
    "version": 3
   },
   "file_extension": ".py",
   "mimetype": "text/x-python",
   "name": "python",
   "nbconvert_exporter": "python",
   "pygments_lexer": "ipython3",
   "version": "3.7.6"
  }
 },
 "nbformat": 4,
 "nbformat_minor": 4
}
