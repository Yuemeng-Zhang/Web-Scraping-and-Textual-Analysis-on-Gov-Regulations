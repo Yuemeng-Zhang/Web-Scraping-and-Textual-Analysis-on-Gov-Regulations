{
 "cells": [
  {
   "cell_type": "markdown",
   "metadata": {},
   "source": [
    "This notebook contains code to generate a table with all docket ids for any home page provided.\n",
    "Go to \"https://beta.regulations.gov\" and serach for regulations you want, such as \"Comptroller of the Currency/OOC\" or \"Consumer Financial Protection Bureau/CFPB)"
   ]
  },
  {
   "cell_type": "code",
   "execution_count": null,
   "metadata": {},
   "outputs": [],
   "source": [
    "from selenium import webdriver\n",
    "from selenium.webdriver import DesiredCapabilities\n",
    "from selenium.webdriver.chrome.options import Options\n",
    "from bs4 import BeautifulSoup\n",
    "import time\n",
    "import pandas as pd\n",
    "import numpy as np"
   ]
  },
  {
   "cell_type": "code",
   "execution_count": 23,
   "metadata": {},
   "outputs": [],
   "source": [
    "home_page = 'https://beta.regulations.gov/search/docket?filter=CFPB'"
   ]
  },
  {
   "cell_type": "code",
   "execution_count": 24,
   "metadata": {},
   "outputs": [],
   "source": [
    "def get_bs_object(input_url):\n",
    "    chrome_options = Options()\n",
    "    chrome_options.add_argument(\"--headless\")\n",
    "\n",
    "    capabilities = DesiredCapabilities.CHROME.copy()\n",
    "    capabilities['acceptSslCerts'] = True \n",
    "    capabilities['acceptInsecureCerts'] = True\n",
    "\n",
    "    driver = webdriver.Chrome(options = chrome_options,executable_path='./chromedriver',desired_capabilities=capabilities)\n",
    "    driver.get(input_url)\n",
    "\n",
    "    time.sleep(5)\n",
    "\n",
    "    html=driver.page_source\n",
    "    result_page=BeautifulSoup(html,\"html.parser\")\n",
    "    return result_page"
   ]
  },
  {
   "cell_type": "code",
   "execution_count": 25,
   "metadata": {},
   "outputs": [],
   "source": [
    "def find_docket_id_on_page(result_home_page):  \n",
    "    res_list = []\n",
    "    for lis in result_home_page.find_all('li'):\n",
    "        try: \n",
    "            lis.find('strong')\n",
    "            text = lis.get_text()\n",
    "            if text.startswith('Docket ID'):\n",
    "                res_list.append(text.replace('Docket ID', '').strip())\n",
    "        except:\n",
    "            pass\n",
    "    return res_list"
   ]
  },
  {
   "cell_type": "code",
   "execution_count": 26,
   "metadata": {},
   "outputs": [],
   "source": [
    "result_home_page = get_bs_object(home_page)"
   ]
  },
  {
   "cell_type": "code",
   "execution_count": 27,
   "metadata": {},
   "outputs": [],
   "source": [
    "total_page = len(result_home_page.find('ul', {'class': 'pagination pagination-sm'}).find_all('li'))-2"
   ]
  },
  {
   "cell_type": "code",
   "execution_count": 28,
   "metadata": {},
   "outputs": [],
   "source": [
    "url_front = home_page + '&pageNumber='"
   ]
  },
  {
   "cell_type": "code",
   "execution_count": 29,
   "metadata": {},
   "outputs": [],
   "source": [
    "res = find_docket_id_on_page(result_home_page)\n",
    "for i in range(2,total_page+1):\n",
    "    res.extend(find_docket_id_on_page(get_bs_object(url_front + str(i))))"
   ]
  },
  {
   "cell_type": "code",
   "execution_count": 30,
   "metadata": {},
   "outputs": [],
   "source": [
    "df = pd.DataFrame(res, columns = ['Docket ID'])"
   ]
  },
  {
   "cell_type": "code",
   "execution_count": 31,
   "metadata": {},
   "outputs": [
    {
     "data": {
      "text/html": [
       "<div>\n",
       "<style scoped>\n",
       "    .dataframe tbody tr th:only-of-type {\n",
       "        vertical-align: middle;\n",
       "    }\n",
       "\n",
       "    .dataframe tbody tr th {\n",
       "        vertical-align: top;\n",
       "    }\n",
       "\n",
       "    .dataframe thead th {\n",
       "        text-align: right;\n",
       "    }\n",
       "</style>\n",
       "<table border=\"1\" class=\"dataframe\">\n",
       "  <thead>\n",
       "    <tr style=\"text-align: right;\">\n",
       "      <th></th>\n",
       "      <th>Docket ID</th>\n",
       "    </tr>\n",
       "  </thead>\n",
       "  <tbody>\n",
       "    <tr>\n",
       "      <th>0</th>\n",
       "      <td>CFPB-2011-0016</td>\n",
       "    </tr>\n",
       "    <tr>\n",
       "      <th>1</th>\n",
       "      <td>TREAS-DO-2011-0005</td>\n",
       "    </tr>\n",
       "    <tr>\n",
       "      <th>2</th>\n",
       "      <td>CFPB-2012-0053</td>\n",
       "    </tr>\n",
       "    <tr>\n",
       "      <th>3</th>\n",
       "      <td>CFPB-2014-0042</td>\n",
       "    </tr>\n",
       "    <tr>\n",
       "      <th>4</th>\n",
       "      <td>CFPB-2017-0007</td>\n",
       "    </tr>\n",
       "  </tbody>\n",
       "</table>\n",
       "</div>"
      ],
      "text/plain": [
       "            Docket ID\n",
       "0      CFPB-2011-0016\n",
       "1  TREAS-DO-2011-0005\n",
       "2      CFPB-2012-0053\n",
       "3      CFPB-2014-0042\n",
       "4      CFPB-2017-0007"
      ]
     },
     "execution_count": 31,
     "metadata": {},
     "output_type": "execute_result"
    }
   ],
   "source": [
    "df.head()"
   ]
  },
  {
   "cell_type": "code",
   "execution_count": 55,
   "metadata": {},
   "outputs": [],
   "source": [
    "# df.to_csv('docket_id_CFPB_all.csv',index=False)"
   ]
  },
  {
   "cell_type": "code",
   "execution_count": null,
   "metadata": {},
   "outputs": [],
   "source": []
  }
 ],
 "metadata": {
  "kernelspec": {
   "display_name": "Python 3",
   "language": "python",
   "name": "python3"
  },
  "language_info": {
   "codemirror_mode": {
    "name": "ipython",
    "version": 3
   },
   "file_extension": ".py",
   "mimetype": "text/x-python",
   "name": "python",
   "nbconvert_exporter": "python",
   "pygments_lexer": "ipython3",
   "version": "3.7.6"
  }
 },
 "nbformat": 4,
 "nbformat_minor": 4
}
